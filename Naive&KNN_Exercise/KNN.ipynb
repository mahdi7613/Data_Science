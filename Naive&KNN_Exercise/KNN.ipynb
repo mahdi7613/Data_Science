{
 "cells": [
  {
   "cell_type": "code",
   "execution_count": 1,
   "metadata": {
    "collapsed": true,
    "ExecuteTime": {
     "end_time": "2024-06-07T16:09:08.888714500Z",
     "start_time": "2024-06-07T16:09:08.874751700Z"
    }
   },
   "outputs": [],
   "source": [
    "import numpy as np\n",
    "import pandas as pd\n",
    "import matplotlib.pyplot as plt\n",
    "import seaborn as sns"
   ]
  },
  {
   "cell_type": "code",
   "execution_count": 3,
   "outputs": [
    {
     "data": {
      "text/plain": "   mean_radius  mean_texture  mean_perimeter  mean_area  mean_smoothness  \\\n0        17.99         10.38          122.80     1001.0          0.11840   \n1        20.57         17.77          132.90     1326.0          0.08474   \n2        19.69         21.25          130.00     1203.0          0.10960   \n3        11.42         20.38           77.58      386.1          0.14250   \n4        20.29         14.34          135.10     1297.0          0.10030   \n\n   diagnosis  \n0          0  \n1          0  \n2          0  \n3          0  \n4          0  ",
      "text/html": "<div>\n<style scoped>\n    .dataframe tbody tr th:only-of-type {\n        vertical-align: middle;\n    }\n\n    .dataframe tbody tr th {\n        vertical-align: top;\n    }\n\n    .dataframe thead th {\n        text-align: right;\n    }\n</style>\n<table border=\"1\" class=\"dataframe\">\n  <thead>\n    <tr style=\"text-align: right;\">\n      <th></th>\n      <th>mean_radius</th>\n      <th>mean_texture</th>\n      <th>mean_perimeter</th>\n      <th>mean_area</th>\n      <th>mean_smoothness</th>\n      <th>diagnosis</th>\n    </tr>\n  </thead>\n  <tbody>\n    <tr>\n      <th>0</th>\n      <td>17.99</td>\n      <td>10.38</td>\n      <td>122.80</td>\n      <td>1001.0</td>\n      <td>0.11840</td>\n      <td>0</td>\n    </tr>\n    <tr>\n      <th>1</th>\n      <td>20.57</td>\n      <td>17.77</td>\n      <td>132.90</td>\n      <td>1326.0</td>\n      <td>0.08474</td>\n      <td>0</td>\n    </tr>\n    <tr>\n      <th>2</th>\n      <td>19.69</td>\n      <td>21.25</td>\n      <td>130.00</td>\n      <td>1203.0</td>\n      <td>0.10960</td>\n      <td>0</td>\n    </tr>\n    <tr>\n      <th>3</th>\n      <td>11.42</td>\n      <td>20.38</td>\n      <td>77.58</td>\n      <td>386.1</td>\n      <td>0.14250</td>\n      <td>0</td>\n    </tr>\n    <tr>\n      <th>4</th>\n      <td>20.29</td>\n      <td>14.34</td>\n      <td>135.10</td>\n      <td>1297.0</td>\n      <td>0.10030</td>\n      <td>0</td>\n    </tr>\n  </tbody>\n</table>\n</div>"
     },
     "execution_count": 3,
     "metadata": {},
     "output_type": "execute_result"
    }
   ],
   "source": [
    "df = pd.read_csv('./cancer_data.csv')\n",
    "df.head()"
   ],
   "metadata": {
    "collapsed": false,
    "ExecuteTime": {
     "end_time": "2024-06-07T16:09:53.004174200Z",
     "start_time": "2024-06-07T16:09:52.980065600Z"
    }
   }
  },
  {
   "cell_type": "code",
   "execution_count": 9,
   "outputs": [],
   "source": [
    "x = df.drop('diagnosis', axis=1)\n",
    "y = df.diagnosis"
   ],
   "metadata": {
    "collapsed": false,
    "ExecuteTime": {
     "end_time": "2024-06-07T16:12:44.559463100Z",
     "start_time": "2024-06-07T16:12:44.528221500Z"
    }
   }
  },
  {
   "cell_type": "code",
   "execution_count": 10,
   "outputs": [
    {
     "data": {
      "text/plain": "   mean_radius  mean_texture  mean_perimeter  mean_area  mean_smoothness\n0     1.097064     -2.073335        1.269934   0.984375         1.568466\n1     1.829821     -0.353632        1.685955   1.908708        -0.826962\n2     1.579888      0.456187        1.566503   1.558884         0.942210\n3    -0.768909      0.253732       -0.592687  -0.764464         3.283553\n4     1.750297     -1.151816        1.776573   1.826229         0.280372",
      "text/html": "<div>\n<style scoped>\n    .dataframe tbody tr th:only-of-type {\n        vertical-align: middle;\n    }\n\n    .dataframe tbody tr th {\n        vertical-align: top;\n    }\n\n    .dataframe thead th {\n        text-align: right;\n    }\n</style>\n<table border=\"1\" class=\"dataframe\">\n  <thead>\n    <tr style=\"text-align: right;\">\n      <th></th>\n      <th>mean_radius</th>\n      <th>mean_texture</th>\n      <th>mean_perimeter</th>\n      <th>mean_area</th>\n      <th>mean_smoothness</th>\n    </tr>\n  </thead>\n  <tbody>\n    <tr>\n      <th>0</th>\n      <td>1.097064</td>\n      <td>-2.073335</td>\n      <td>1.269934</td>\n      <td>0.984375</td>\n      <td>1.568466</td>\n    </tr>\n    <tr>\n      <th>1</th>\n      <td>1.829821</td>\n      <td>-0.353632</td>\n      <td>1.685955</td>\n      <td>1.908708</td>\n      <td>-0.826962</td>\n    </tr>\n    <tr>\n      <th>2</th>\n      <td>1.579888</td>\n      <td>0.456187</td>\n      <td>1.566503</td>\n      <td>1.558884</td>\n      <td>0.942210</td>\n    </tr>\n    <tr>\n      <th>3</th>\n      <td>-0.768909</td>\n      <td>0.253732</td>\n      <td>-0.592687</td>\n      <td>-0.764464</td>\n      <td>3.283553</td>\n    </tr>\n    <tr>\n      <th>4</th>\n      <td>1.750297</td>\n      <td>-1.151816</td>\n      <td>1.776573</td>\n      <td>1.826229</td>\n      <td>0.280372</td>\n    </tr>\n  </tbody>\n</table>\n</div>"
     },
     "execution_count": 10,
     "metadata": {},
     "output_type": "execute_result"
    }
   ],
   "source": [
    "from scipy.stats import zscore\n",
    "\n",
    "scale = x.apply(zscore)\n",
    "scale.head()"
   ],
   "metadata": {
    "collapsed": false,
    "ExecuteTime": {
     "end_time": "2024-06-07T16:13:33.765015900Z",
     "start_time": "2024-06-07T16:13:33.733396600Z"
    }
   }
  },
  {
   "cell_type": "code",
   "execution_count": 11,
   "outputs": [
    {
     "data": {
      "text/plain": "       mean_radius  mean_texture  mean_perimeter    mean_area  mean_smoothness\ncount   569.000000    569.000000      569.000000   569.000000       569.000000\nmean     14.127292     19.289649       91.969033   654.889104         0.096360\nstd       3.524049      4.301036       24.298981   351.914129         0.014064\nmin       6.981000      9.710000       43.790000   143.500000         0.052630\n25%      11.700000     16.170000       75.170000   420.300000         0.086370\n50%      13.370000     18.840000       86.240000   551.100000         0.095870\n75%      15.780000     21.800000      104.100000   782.700000         0.105300\nmax      28.110000     39.280000      188.500000  2501.000000         0.163400",
      "text/html": "<div>\n<style scoped>\n    .dataframe tbody tr th:only-of-type {\n        vertical-align: middle;\n    }\n\n    .dataframe tbody tr th {\n        vertical-align: top;\n    }\n\n    .dataframe thead th {\n        text-align: right;\n    }\n</style>\n<table border=\"1\" class=\"dataframe\">\n  <thead>\n    <tr style=\"text-align: right;\">\n      <th></th>\n      <th>mean_radius</th>\n      <th>mean_texture</th>\n      <th>mean_perimeter</th>\n      <th>mean_area</th>\n      <th>mean_smoothness</th>\n    </tr>\n  </thead>\n  <tbody>\n    <tr>\n      <th>count</th>\n      <td>569.000000</td>\n      <td>569.000000</td>\n      <td>569.000000</td>\n      <td>569.000000</td>\n      <td>569.000000</td>\n    </tr>\n    <tr>\n      <th>mean</th>\n      <td>14.127292</td>\n      <td>19.289649</td>\n      <td>91.969033</td>\n      <td>654.889104</td>\n      <td>0.096360</td>\n    </tr>\n    <tr>\n      <th>std</th>\n      <td>3.524049</td>\n      <td>4.301036</td>\n      <td>24.298981</td>\n      <td>351.914129</td>\n      <td>0.014064</td>\n    </tr>\n    <tr>\n      <th>min</th>\n      <td>6.981000</td>\n      <td>9.710000</td>\n      <td>43.790000</td>\n      <td>143.500000</td>\n      <td>0.052630</td>\n    </tr>\n    <tr>\n      <th>25%</th>\n      <td>11.700000</td>\n      <td>16.170000</td>\n      <td>75.170000</td>\n      <td>420.300000</td>\n      <td>0.086370</td>\n    </tr>\n    <tr>\n      <th>50%</th>\n      <td>13.370000</td>\n      <td>18.840000</td>\n      <td>86.240000</td>\n      <td>551.100000</td>\n      <td>0.095870</td>\n    </tr>\n    <tr>\n      <th>75%</th>\n      <td>15.780000</td>\n      <td>21.800000</td>\n      <td>104.100000</td>\n      <td>782.700000</td>\n      <td>0.105300</td>\n    </tr>\n    <tr>\n      <th>max</th>\n      <td>28.110000</td>\n      <td>39.280000</td>\n      <td>188.500000</td>\n      <td>2501.000000</td>\n      <td>0.163400</td>\n    </tr>\n  </tbody>\n</table>\n</div>"
     },
     "execution_count": 11,
     "metadata": {},
     "output_type": "execute_result"
    }
   ],
   "source": [
    "x.describe()"
   ],
   "metadata": {
    "collapsed": false,
    "ExecuteTime": {
     "end_time": "2024-06-07T16:17:06.485502500Z",
     "start_time": "2024-06-07T16:17:06.454258500Z"
    }
   }
  },
  {
   "cell_type": "code",
   "execution_count": 12,
   "outputs": [
    {
     "data": {
      "text/plain": "        mean_radius  mean_texture  mean_perimeter     mean_area  \\\ncount  5.690000e+02  5.690000e+02    5.690000e+02  5.690000e+02   \nmean  -1.256562e-16  1.049736e-16   -1.272171e-16 -1.900452e-16   \nstd    1.000880e+00  1.000880e+00    1.000880e+00  1.000880e+00   \nmin   -2.029648e+00 -2.229249e+00   -1.984504e+00 -1.454443e+00   \n25%   -6.893853e-01 -7.259631e-01   -6.919555e-01 -6.671955e-01   \n50%   -2.150816e-01 -1.046362e-01   -2.359800e-01 -2.951869e-01   \n75%    4.693926e-01  5.841756e-01    4.996769e-01  3.635073e-01   \nmax    3.971288e+00  4.651889e+00    3.976130e+00  5.250529e+00   \n\n       mean_smoothness  \ncount     5.690000e+02  \nmean     -8.226187e-16  \nstd       1.000880e+00  \nmin      -3.112085e+00  \n25%      -7.109628e-01  \n50%      -3.489108e-02  \n75%       6.361990e-01  \nmax       4.770911e+00  ",
      "text/html": "<div>\n<style scoped>\n    .dataframe tbody tr th:only-of-type {\n        vertical-align: middle;\n    }\n\n    .dataframe tbody tr th {\n        vertical-align: top;\n    }\n\n    .dataframe thead th {\n        text-align: right;\n    }\n</style>\n<table border=\"1\" class=\"dataframe\">\n  <thead>\n    <tr style=\"text-align: right;\">\n      <th></th>\n      <th>mean_radius</th>\n      <th>mean_texture</th>\n      <th>mean_perimeter</th>\n      <th>mean_area</th>\n      <th>mean_smoothness</th>\n    </tr>\n  </thead>\n  <tbody>\n    <tr>\n      <th>count</th>\n      <td>5.690000e+02</td>\n      <td>5.690000e+02</td>\n      <td>5.690000e+02</td>\n      <td>5.690000e+02</td>\n      <td>5.690000e+02</td>\n    </tr>\n    <tr>\n      <th>mean</th>\n      <td>-1.256562e-16</td>\n      <td>1.049736e-16</td>\n      <td>-1.272171e-16</td>\n      <td>-1.900452e-16</td>\n      <td>-8.226187e-16</td>\n    </tr>\n    <tr>\n      <th>std</th>\n      <td>1.000880e+00</td>\n      <td>1.000880e+00</td>\n      <td>1.000880e+00</td>\n      <td>1.000880e+00</td>\n      <td>1.000880e+00</td>\n    </tr>\n    <tr>\n      <th>min</th>\n      <td>-2.029648e+00</td>\n      <td>-2.229249e+00</td>\n      <td>-1.984504e+00</td>\n      <td>-1.454443e+00</td>\n      <td>-3.112085e+00</td>\n    </tr>\n    <tr>\n      <th>25%</th>\n      <td>-6.893853e-01</td>\n      <td>-7.259631e-01</td>\n      <td>-6.919555e-01</td>\n      <td>-6.671955e-01</td>\n      <td>-7.109628e-01</td>\n    </tr>\n    <tr>\n      <th>50%</th>\n      <td>-2.150816e-01</td>\n      <td>-1.046362e-01</td>\n      <td>-2.359800e-01</td>\n      <td>-2.951869e-01</td>\n      <td>-3.489108e-02</td>\n    </tr>\n    <tr>\n      <th>75%</th>\n      <td>4.693926e-01</td>\n      <td>5.841756e-01</td>\n      <td>4.996769e-01</td>\n      <td>3.635073e-01</td>\n      <td>6.361990e-01</td>\n    </tr>\n    <tr>\n      <th>max</th>\n      <td>3.971288e+00</td>\n      <td>4.651889e+00</td>\n      <td>3.976130e+00</td>\n      <td>5.250529e+00</td>\n      <td>4.770911e+00</td>\n    </tr>\n  </tbody>\n</table>\n</div>"
     },
     "execution_count": 12,
     "metadata": {},
     "output_type": "execute_result"
    }
   ],
   "source": [
    "scale.describe()"
   ],
   "metadata": {
    "collapsed": false,
    "ExecuteTime": {
     "end_time": "2024-06-07T16:17:24.127727600Z",
     "start_time": "2024-06-07T16:17:24.080595400Z"
    }
   }
  },
  {
   "cell_type": "code",
   "execution_count": 13,
   "outputs": [],
   "source": [
    "from sklearn.model_selection import train_test_split\n",
    "\n",
    "x_train, x_test, y_train, y_test = train_test_split(scale, y, test_size=0.3, random_state=11)"
   ],
   "metadata": {
    "collapsed": false,
    "ExecuteTime": {
     "end_time": "2024-06-07T16:18:35.561100200Z",
     "start_time": "2024-06-07T16:18:34.919391200Z"
    }
   }
  },
  {
   "cell_type": "code",
   "execution_count": 14,
   "outputs": [],
   "source": [
    "from sklearn.neighbors import KNeighborsClassifier\n",
    "\n",
    "model = KNeighborsClassifier(n_neighbors=5, weights='distance')"
   ],
   "metadata": {
    "collapsed": false,
    "ExecuteTime": {
     "end_time": "2024-06-07T16:22:12.216377100Z",
     "start_time": "2024-06-07T16:22:11.697357200Z"
    }
   }
  },
  {
   "cell_type": "code",
   "execution_count": 15,
   "outputs": [
    {
     "data": {
      "text/plain": "KNeighborsClassifier(weights='distance')"
     },
     "execution_count": 15,
     "metadata": {},
     "output_type": "execute_result"
    }
   ],
   "source": [
    "model.fit(x_train, y_train)"
   ],
   "metadata": {
    "collapsed": false,
    "ExecuteTime": {
     "end_time": "2024-06-07T16:23:35.532757800Z",
     "start_time": "2024-06-07T16:23:35.501513400Z"
    }
   }
  },
  {
   "cell_type": "code",
   "execution_count": 16,
   "outputs": [],
   "source": [
    "y_pred = model.predict(x_test)"
   ],
   "metadata": {
    "collapsed": false,
    "ExecuteTime": {
     "end_time": "2024-06-07T16:23:54.454850200Z",
     "start_time": "2024-06-07T16:23:54.439227100Z"
    }
   }
  },
  {
   "cell_type": "code",
   "execution_count": 22,
   "outputs": [
    {
     "name": "stdout",
     "output_type": "stream",
     "text": [
      "Score:  90.64 %\n"
     ]
    }
   ],
   "source": [
    "print('Score: ',\n",
    "np.around(model.score(x_test, y_test) * 100, 2), '%')"
   ],
   "metadata": {
    "collapsed": false,
    "ExecuteTime": {
     "end_time": "2024-06-07T16:27:46.234766500Z",
     "start_time": "2024-06-07T16:27:46.203526500Z"
    }
   }
  },
  {
   "cell_type": "code",
   "execution_count": 21,
   "outputs": [
    {
     "name": "stdout",
     "output_type": "stream",
     "text": [
      "Average Cross Val Score 91.56 %\n"
     ]
    }
   ],
   "source": [
    "from sklearn.model_selection import cross_val_score\n",
    "cross = np.around(cross_val_score(model,scale,y,cv=10) * 100,2)\n",
    "\n",
    "print('Average Cross Val Score', np.around(np.mean(cross), 2), '%')"
   ],
   "metadata": {
    "collapsed": false,
    "ExecuteTime": {
     "end_time": "2024-06-07T16:27:43.451868200Z",
     "start_time": "2024-06-07T16:27:43.373692300Z"
    }
   }
  },
  {
   "cell_type": "code",
   "execution_count": 25,
   "outputs": [
    {
     "data": {
      "text/plain": "<Figure size 640x480 with 2 Axes>",
      "image/png": "[encoded data removed]"
     },
     "metadata": {},
     "output_type": "display_data"
    }
   ],
   "source": [
    "from sklearn import metrics\n",
    "\n",
    "confusion = metrics.confusion_matrix(y_test,\n",
    "                                     y_pred,\n",
    "                                     labels=[1,0])\n",
    "\n",
    "confusion_df = pd.DataFrame(confusion,\n",
    "                            index=['Real 1', 'Real 0'],\n",
    "                            columns=['Predict 1' , 'Predict 0'])\n",
    "\n",
    "sns.heatmap(confusion_df,annot = True)\n",
    "plt.show()"
   ],
   "metadata": {
    "collapsed": false,
    "ExecuteTime": {
     "end_time": "2024-06-07T16:30:48.532560900Z",
     "start_time": "2024-06-07T16:30:48.359502600Z"
    }
   }
  },
  {
   "cell_type": "code",
   "execution_count": 29,
   "outputs": [
    {
     "data": {
      "text/plain": "array([0.88746867, 0.88746867, 0.89974937, 0.90150376, 0.91557018,\n       0.9120614 , 0.91381579, 0.91209273, 0.92086466, 0.91557018,\n       0.91911028, 0.92437343, 0.91904762, 0.92258772, 0.91732456,\n       0.91732456, 0.91907895, 0.91732456, 0.91732456, 0.92086466,\n       0.91911028, 0.92440476, 0.92261905, 0.92440476, 0.92089599,\n       0.92440476, 0.92440476, 0.92440476, 0.91911028, 0.92265038,\n       0.92089599, 0.92440476, 0.92265038, 0.92615915, 0.92615915,\n       0.92615915, 0.92794486, 0.92969925, 0.92619048, 0.92794486,\n       0.92794486, 0.92619048, 0.92794486, 0.92797619, 0.92797619,\n       0.92973058, 0.92794486, 0.92973058, 0.9262218 , 0.92797619])"
     },
     "execution_count": 29,
     "metadata": {},
     "output_type": "execute_result"
    }
   ],
   "source": [
    "k = 50\n",
    "scores = np.zeros(shape=k)\n",
    "\n",
    "for n in range(1, k+1):\n",
    "    KNNs = KNeighborsClassifier(n_neighbors=n,weights='distance')\n",
    "    score_n = cross_val_score(KNNs, scale , y , cv = 10)\n",
    "    scores[n-1] = score_n.mean()\n",
    "scores"
   ],
   "metadata": {
    "collapsed": false,
    "ExecuteTime": {
     "end_time": "2024-06-07T16:34:12.583024600Z",
     "start_time": "2024-06-07T16:34:09.796767200Z"
    }
   }
  },
  {
   "cell_type": "code",
   "execution_count": null,
   "outputs": [],
   "source": [],
   "metadata": {
    "collapsed": false
   }
  }
 ],
 "metadata": {
  "kernelspec": {
   "display_name": "Python 3",
   "language": "python",
   "name": "python3"
  },
  "language_info": {
   "codemirror_mode": {
    "name": "ipython",
    "version": 2
   },
   "file_extension": ".py",
   "mimetype": "text/x-python",
   "name": "python",
   "nbconvert_exporter": "python",
   "pygments_lexer": "ipython2",
   "version": "2.7.6"
  }
 },
 "nbformat": 4,
 "nbformat_minor": 0
}
