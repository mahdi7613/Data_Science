{
 "cells": [
  {
   "cell_type": "code",
   "execution_count": 1,
   "metadata": {
    "collapsed": true,
    "ExecuteTime": {
     "end_time": "2024-06-07T14:47:51.164574Z",
     "start_time": "2024-06-07T14:47:51.147752500Z"
    }
   },
   "outputs": [],
   "source": [
    "import numpy as np\n",
    "import pandas as pd\n",
    "import matplotlib.pyplot as plt\n",
    "import seaborn as sns"
   ]
  },
  {
   "cell_type": "code",
   "execution_count": 34,
   "outputs": [
    {
     "data": {
      "text/plain": "   mean_radius  mean_texture  mean_perimeter  mean_area  mean_smoothness  \\\n0        17.99         10.38          122.80     1001.0          0.11840   \n1        20.57         17.77          132.90     1326.0          0.08474   \n2        19.69         21.25          130.00     1203.0          0.10960   \n3        11.42         20.38           77.58      386.1          0.14250   \n4        20.29         14.34          135.10     1297.0          0.10030   \n\n   diagnosis  \n0          0  \n1          0  \n2          0  \n3          0  \n4          0  ",
      "text/html": "<div>\n<style scoped>\n    .dataframe tbody tr th:only-of-type {\n        vertical-align: middle;\n    }\n\n    .dataframe tbody tr th {\n        vertical-align: top;\n    }\n\n    .dataframe thead th {\n        text-align: right;\n    }\n</style>\n<table border=\"1\" class=\"dataframe\">\n  <thead>\n    <tr style=\"text-align: right;\">\n      <th></th>\n      <th>mean_radius</th>\n      <th>mean_texture</th>\n      <th>mean_perimeter</th>\n      <th>mean_area</th>\n      <th>mean_smoothness</th>\n      <th>diagnosis</th>\n    </tr>\n  </thead>\n  <tbody>\n    <tr>\n      <th>0</th>\n      <td>17.99</td>\n      <td>10.38</td>\n      <td>122.80</td>\n      <td>1001.0</td>\n      <td>0.11840</td>\n      <td>0</td>\n    </tr>\n    <tr>\n      <th>1</th>\n      <td>20.57</td>\n      <td>17.77</td>\n      <td>132.90</td>\n      <td>1326.0</td>\n      <td>0.08474</td>\n      <td>0</td>\n    </tr>\n    <tr>\n      <th>2</th>\n      <td>19.69</td>\n      <td>21.25</td>\n      <td>130.00</td>\n      <td>1203.0</td>\n      <td>0.10960</td>\n      <td>0</td>\n    </tr>\n    <tr>\n      <th>3</th>\n      <td>11.42</td>\n      <td>20.38</td>\n      <td>77.58</td>\n      <td>386.1</td>\n      <td>0.14250</td>\n      <td>0</td>\n    </tr>\n    <tr>\n      <th>4</th>\n      <td>20.29</td>\n      <td>14.34</td>\n      <td>135.10</td>\n      <td>1297.0</td>\n      <td>0.10030</td>\n      <td>0</td>\n    </tr>\n  </tbody>\n</table>\n</div>"
     },
     "execution_count": 34,
     "metadata": {},
     "output_type": "execute_result"
    }
   ],
   "source": [
    "df = pd.read_csv('./cancer_data.csv')\n",
    "df.head()"
   ],
   "metadata": {
    "collapsed": false,
    "ExecuteTime": {
     "end_time": "2024-06-07T16:05:08.557929300Z",
     "start_time": "2024-06-07T16:05:08.526685300Z"
    }
   }
  },
  {
   "cell_type": "code",
   "execution_count": 35,
   "outputs": [
    {
     "data": {
      "text/plain": "False"
     },
     "execution_count": 35,
     "metadata": {},
     "output_type": "execute_result"
    }
   ],
   "source": [
    "df.isnull().values.any()"
   ],
   "metadata": {
    "collapsed": false,
    "ExecuteTime": {
     "end_time": "2024-06-07T16:05:10.491136700Z",
     "start_time": "2024-06-07T16:05:10.470960Z"
    }
   }
  },
  {
   "cell_type": "code",
   "execution_count": 36,
   "outputs": [],
   "source": [
    "from sklearn.model_selection import train_test_split\n",
    "x = df.drop('diagnosis', axis=1)\n",
    "y = df['diagnosis']\n",
    "\n",
    "x_train, x_test , y_train , y_test = train_test_split(x,y,test_size=0.3,random_state=11)"
   ],
   "metadata": {
    "collapsed": false,
    "ExecuteTime": {
     "end_time": "2024-06-07T16:05:14.598210900Z",
     "start_time": "2024-06-07T16:05:14.566493Z"
    }
   }
  },
  {
   "cell_type": "code",
   "execution_count": 37,
   "outputs": [
    {
     "name": "stdout",
     "output_type": "stream",
     "text": [
      "69.95 % data is in training set\n",
      "30.05 % data is in testing set\n"
     ]
    }
   ],
   "source": [
    "print(np.around(len(x_train)/len(df)*100 , 2), '% data is in training set')\n",
    "print(np.around(len(x_test)/len(df)*100 , 2), '% data is in testing set')"
   ],
   "metadata": {
    "collapsed": false,
    "ExecuteTime": {
     "end_time": "2024-06-07T16:05:15.119559400Z",
     "start_time": "2024-06-07T16:05:15.088312600Z"
    }
   }
  },
  {
   "cell_type": "code",
   "execution_count": 38,
   "outputs": [
    {
     "data": {
      "text/plain": "     mean_radius  mean_texture  mean_perimeter  mean_area  mean_smoothness\n430        14.90         22.53          102.10      685.0          0.09947\n324        12.20         15.21           78.01      457.9          0.08673\n98         11.60         12.84           74.34      412.6          0.08983\n502        12.54         16.32           81.25      476.3          0.11580\n92         13.27         14.76           84.74      551.7          0.07355",
      "text/html": "<div>\n<style scoped>\n    .dataframe tbody tr th:only-of-type {\n        vertical-align: middle;\n    }\n\n    .dataframe tbody tr th {\n        vertical-align: top;\n    }\n\n    .dataframe thead th {\n        text-align: right;\n    }\n</style>\n<table border=\"1\" class=\"dataframe\">\n  <thead>\n    <tr style=\"text-align: right;\">\n      <th></th>\n      <th>mean_radius</th>\n      <th>mean_texture</th>\n      <th>mean_perimeter</th>\n      <th>mean_area</th>\n      <th>mean_smoothness</th>\n    </tr>\n  </thead>\n  <tbody>\n    <tr>\n      <th>430</th>\n      <td>14.90</td>\n      <td>22.53</td>\n      <td>102.10</td>\n      <td>685.0</td>\n      <td>0.09947</td>\n    </tr>\n    <tr>\n      <th>324</th>\n      <td>12.20</td>\n      <td>15.21</td>\n      <td>78.01</td>\n      <td>457.9</td>\n      <td>0.08673</td>\n    </tr>\n    <tr>\n      <th>98</th>\n      <td>11.60</td>\n      <td>12.84</td>\n      <td>74.34</td>\n      <td>412.6</td>\n      <td>0.08983</td>\n    </tr>\n    <tr>\n      <th>502</th>\n      <td>12.54</td>\n      <td>16.32</td>\n      <td>81.25</td>\n      <td>476.3</td>\n      <td>0.11580</td>\n    </tr>\n    <tr>\n      <th>92</th>\n      <td>13.27</td>\n      <td>14.76</td>\n      <td>84.74</td>\n      <td>551.7</td>\n      <td>0.07355</td>\n    </tr>\n  </tbody>\n</table>\n</div>"
     },
     "execution_count": 38,
     "metadata": {},
     "output_type": "execute_result"
    }
   ],
   "source": [
    "x_train.head()"
   ],
   "metadata": {
    "collapsed": false,
    "ExecuteTime": {
     "end_time": "2024-06-07T16:05:15.541727800Z",
     "start_time": "2024-06-07T16:05:15.494864700Z"
    }
   }
  },
  {
   "cell_type": "code",
   "execution_count": 39,
   "outputs": [],
   "source": [
    "cols = x_train.columns"
   ],
   "metadata": {
    "collapsed": false,
    "ExecuteTime": {
     "end_time": "2024-06-07T16:05:15.823190300Z",
     "start_time": "2024-06-07T16:05:15.807296100Z"
    }
   }
  },
  {
   "cell_type": "code",
   "execution_count": 40,
   "outputs": [
    {
     "data": {
      "text/plain": "GaussianNB()"
     },
     "execution_count": 40,
     "metadata": {},
     "output_type": "execute_result"
    }
   ],
   "source": [
    "from sklearn.naive_bayes import GaussianNB\n",
    "\n",
    "model = GaussianNB()\n",
    "model.fit(x_train,y_train)"
   ],
   "metadata": {
    "collapsed": false,
    "ExecuteTime": {
     "end_time": "2024-06-07T16:05:15.994745Z",
     "start_time": "2024-06-07T16:05:15.979123800Z"
    }
   }
  },
  {
   "cell_type": "code",
   "execution_count": 41,
   "outputs": [],
   "source": [
    "y_pred_train = model.predict(x_train)"
   ],
   "metadata": {
    "collapsed": false,
    "ExecuteTime": {
     "end_time": "2024-06-07T16:05:16.172344600Z",
     "start_time": "2024-06-07T16:05:16.125478500Z"
    }
   }
  },
  {
   "cell_type": "code",
   "execution_count": 42,
   "outputs": [
    {
     "name": "stdout",
     "output_type": "stream",
     "text": [
      "Model accuracy:  91.46 %\n"
     ]
    }
   ],
   "source": [
    "from sklearn import metrics\n",
    "print('Model accuracy: ' , np.around(metrics.accuracy_score(y_train,y_pred_train) * 100,2), '%')"
   ],
   "metadata": {
    "collapsed": false,
    "ExecuteTime": {
     "end_time": "2024-06-07T16:05:16.297843600Z",
     "start_time": "2024-06-07T16:05:16.266586900Z"
    }
   }
  },
  {
   "cell_type": "code",
   "execution_count": 43,
   "outputs": [
    {
     "name": "stdout",
     "output_type": "stream",
     "text": [
      "Model Accuracy:  85.96 %\n"
     ]
    }
   ],
   "source": [
    "y_pred_test = model.predict(x_test)\n",
    "\n",
    "print('Model Accuracy: ' ,np.around(metrics.accuracy_score(y_test,y_pred_test) * 100,2) ,'%')"
   ],
   "metadata": {
    "collapsed": false,
    "ExecuteTime": {
     "end_time": "2024-06-07T16:05:16.427775700Z",
     "start_time": "2024-06-07T16:05:16.396528800Z"
    }
   }
  },
  {
   "cell_type": "code",
   "execution_count": 44,
   "outputs": [
    {
     "data": {
      "text/plain": "<Figure size 640x480 with 2 Axes>",
      "image/png": "[encoded data removed]"
     },
     "metadata": {},
     "output_type": "display_data"
    }
   ],
   "source": [
    "confusion = metrics.confusion_matrix(y_test,\n",
    "                                     y_pred_test,\n",
    "                                     labels=[1 , 0])\n",
    "confusion_df = pd.DataFrame(confusion,\n",
    "                            index=['Real 1','Real 0'],\n",
    "                            columns = ['Predicted 1','Predicted 0'])\n",
    "\n",
    "sns.heatmap(confusion_df, annot= True)\n",
    "plt.show()\n"
   ],
   "metadata": {
    "collapsed": false,
    "ExecuteTime": {
     "end_time": "2024-06-07T16:05:16.738942500Z",
     "start_time": "2024-06-07T16:05:16.511254200Z"
    }
   }
  },
  {
   "cell_type": "code",
   "execution_count": 45,
   "outputs": [
    {
     "name": "stdout",
     "output_type": "stream",
     "text": [
      "              precision    recall  f1-score   support\n",
      "\n",
      "           1       0.84      0.97      0.90       110\n",
      "           0       0.93      0.66      0.77        61\n",
      "\n",
      "    accuracy                           0.86       171\n",
      "   macro avg       0.88      0.81      0.83       171\n",
      "weighted avg       0.87      0.86      0.85       171\n",
      "\n"
     ]
    }
   ],
   "source": [
    "evaluation = metrics.classification_report(y_test,\n",
    "                                           y_pred_test,\n",
    "                                           labels=[1, 0])\n",
    "print(evaluation)"
   ],
   "metadata": {
    "collapsed": false,
    "ExecuteTime": {
     "end_time": "2024-06-07T16:05:17.035683600Z",
     "start_time": "2024-06-07T16:05:17.020059Z"
    }
   }
  },
  {
   "cell_type": "code",
   "execution_count": null,
   "outputs": [],
   "source": [],
   "metadata": {
    "collapsed": false
   }
  }
 ],
 "metadata": {
  "kernelspec": {
   "display_name": "Python 3",
   "language": "python",
   "name": "python3"
  },
  "language_info": {
   "codemirror_mode": {
    "name": "ipython",
    "version": 2
   },
   "file_extension": ".py",
   "mimetype": "text/x-python",
   "name": "python",
   "nbconvert_exporter": "python",
   "pygments_lexer": "ipython2",
   "version": "2.7.6"
  }
 },
 "nbformat": 4,
 "nbformat_minor": 0
}
